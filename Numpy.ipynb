{
 "cells": [
  {
   "cell_type": "code",
   "execution_count": 2,
   "id": "c36bc031-23ce-426d-9caa-0815de23ab4a",
   "metadata": {},
   "outputs": [],
   "source": [
    "import numpy as np\n",
    "import sys"
   ]
  },
  {
   "cell_type": "code",
   "execution_count": 3,
   "id": "7aac84f2-68e9-47da-9017-ef4cc107a90a",
   "metadata": {},
   "outputs": [
    {
     "name": "stdout",
     "output_type": "stream",
     "text": [
      "[1, 2, 3, 4, 5]\n",
      "[1 2 3 4 5]\n"
     ]
    }
   ],
   "source": [
    "a = [1,2,3,4,5]\n",
    "b = [1,2,3,4,5]\n",
    "c = np.array([1,2,3,4,5])\n",
    "print(a)\n",
    "print(c)"
   ]
  },
  {
   "cell_type": "code",
   "execution_count": 5,
   "id": "e4dc8675-1f75-464f-97a3-6525605972fe",
   "metadata": {},
   "outputs": [
    {
     "data": {
      "text/plain": [
       "120"
      ]
     },
     "execution_count": 5,
     "metadata": {},
     "output_type": "execute_result"
    }
   ],
   "source": [
    "sys. getsizeof(a)"
   ]
  },
  {
   "cell_type": "code",
   "execution_count": 6,
   "id": "68430880-3fe5-421c-bc6c-7a265c7bbb62",
   "metadata": {},
   "outputs": [
    {
     "data": {
      "text/plain": [
       "20"
      ]
     },
     "execution_count": 6,
     "metadata": {},
     "output_type": "execute_result"
    }
   ],
   "source": [
    "b.nbytes"
   ]
  },
  {
   "cell_type": "code",
   "execution_count": 11,
   "id": "200bee8a-ba68-49ad-b3bd-c70df408011a",
   "metadata": {},
   "outputs": [
    {
     "name": "stdout",
     "output_type": "stream",
     "text": [
      "[1 2 3]\n"
     ]
    },
    {
     "data": {
      "text/plain": [
       "dtype('int32')"
      ]
     },
     "execution_count": 11,
     "metadata": {},
     "output_type": "execute_result"
    }
   ],
   "source": [
    "#Array 1D\n",
    "d1 = np.array([1,2,3])\n",
    "print(d1)\n",
    "d1.shape\n",
    "d1.ndim\n",
    "d1.dtype"
   ]
  },
  {
   "cell_type": "code",
   "execution_count": 13,
   "id": "39b2f068-10c3-4bd8-8485-72317aad4f9a",
   "metadata": {},
   "outputs": [
    {
     "name": "stdout",
     "output_type": "stream",
     "text": [
      "[[1 2 3]\n",
      " [4 5 6]]\n"
     ]
    },
    {
     "data": {
      "text/plain": [
       "dtype('int32')"
      ]
     },
     "execution_count": 13,
     "metadata": {},
     "output_type": "execute_result"
    }
   ],
   "source": [
    "#Array 2D\n",
    "d2 = np.array([[1,2,3], [4,5,6]])\n",
    "print(d2)\n",
    "d2.shape\n",
    "d2.ndim\n",
    "d2.dtype"
   ]
  },
  {
   "cell_type": "code",
   "execution_count": null,
   "id": "d5cf1c5b-52eb-4ebc-aeac-7105fd039b99",
   "metadata": {},
   "outputs": [],
   "source": [
    "#Array 3D\n",
    "d3 = np.array([[[1,2], [3,4]], [[5,6],[7,8]]])\n",
    "print(d3)\n",
    "d3.shape\n",
    "d3.ndim\n",
    "d3.dtype"
   ]
  },
  {
   "cell_type": "code",
   "execution_count": 3,
   "id": "9c7ec28d-e0ea-4d1e-9afd-64ab9dc0e84b",
   "metadata": {},
   "outputs": [
    {
     "name": "stdout",
     "output_type": "stream",
     "text": [
      "[4 6 8]\n"
     ]
    }
   ],
   "source": [
    "#Somando Arrays\n",
    "a = np.array([2,3,4])\n",
    "b = np.array([2,3,4])\n",
    "result =np.add(a,b)\n",
    "print(result)"
   ]
  },
  {
   "cell_type": "code",
   "execution_count": 7,
   "id": "d92a34f1-4f59-42df-b2ee-132d17b205e4",
   "metadata": {},
   "outputs": [
    {
     "name": "stdout",
     "output_type": "stream",
     "text": [
      "[[2 3 4 5]\n",
      " [6 7 8 9]]\n"
     ]
    }
   ],
   "source": [
    "#Selecionando itens em Arrays\n",
    "\n",
    "a = np.array([[2,3,4,5],[6,7,8,9]])\n",
    "print(a)"
   ]
  },
  {
   "cell_type": "code",
   "execution_count": 8,
   "id": "eefdcf1f-627a-4afe-b856-1b5731511c76",
   "metadata": {},
   "outputs": [
    {
     "data": {
      "text/plain": [
       "8"
      ]
     },
     "execution_count": 8,
     "metadata": {},
     "output_type": "execute_result"
    }
   ],
   "source": [
    "# Array[row,colunm)\n",
    "a[1,2]"
   ]
  },
  {
   "cell_type": "code",
   "execution_count": 9,
   "id": "6fc83a5c-2229-47e0-8fb2-522691e3983c",
   "metadata": {},
   "outputs": [
    {
     "data": {
      "text/plain": [
       "array([2, 3, 4, 5])"
      ]
     },
     "execution_count": 9,
     "metadata": {},
     "output_type": "execute_result"
    }
   ],
   "source": [
    "a[0,:]"
   ]
  },
  {
   "cell_type": "code",
   "execution_count": null,
   "id": "e5730d1d-c5d6-4361-afbf-e47d78829a75",
   "metadata": {},
   "outputs": [],
   "source": []
  }
 ],
 "metadata": {
  "kernelspec": {
   "display_name": "Python 3 (ipykernel)",
   "language": "python",
   "name": "python3"
  },
  "language_info": {
   "codemirror_mode": {
    "name": "ipython",
    "version": 3
   },
   "file_extension": ".py",
   "mimetype": "text/x-python",
   "name": "python",
   "nbconvert_exporter": "python",
   "pygments_lexer": "ipython3",
   "version": "3.9.7"
  }
 },
 "nbformat": 4,
 "nbformat_minor": 5
}
